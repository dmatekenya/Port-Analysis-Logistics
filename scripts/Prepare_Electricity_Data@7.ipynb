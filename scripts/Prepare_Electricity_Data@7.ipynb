{
 "cells": [
  {
   "cell_type": "markdown",
   "metadata": {},
   "source": [
    "**Eletricity Data**\n",
    "======================"
   ]
  },
  {
   "cell_type": "markdown",
   "metadata": {},
   "source": [
    "**Set up Working Directory**\n",
    "============================="
   ]
  },
  {
   "cell_type": "code",
   "execution_count": 1,
   "metadata": {
    "collapsed": true
   },
   "outputs": [],
   "source": [
    "#Import packages\n",
    "import pytz\n",
    "import pandas as pd\n",
    "import numpy as np\n",
    "from datetime import datetime, date, time, timedelta\n",
    "import re"
   ]
  },
  {
   "cell_type": "code",
   "execution_count": 2,
   "metadata": {
    "collapsed": true
   },
   "outputs": [],
   "source": [
    "#Set up Working Directory and Data Files\n",
    "drive = 'G'\n",
    "if drive == 'G':\n",
    "    wd = \"/Users/dmatekenya/Google Drive/World-Bank/electricity_monitoring/\"\n",
    "    data_file = wd + '01.data/sms.csv'\n",
    "else:\n",
    "    wd = 'C:\\\\Users\\\\wb344850\\\\Box Sync\\\\01.GOKMU_BigDataPilot\\\\'\n",
    "    data_file = wd + '01.data\\\\sms.csv'"
   ]
  },
  {
   "cell_type": "code",
   "execution_count": 3,
   "metadata": {},
   "outputs": [
    {
     "name": "stdout",
     "output_type": "stream",
     "text": [
      "Reading data.......\n"
     ]
    },
    {
     "name": "stderr",
     "output_type": "stream",
     "text": [
      "/Library/Frameworks/Python.framework/Versions/3.5/lib/python3.5/site-packages/IPython/core/interactiveshell.py:2717: DtypeWarning: Columns (4,11) have mixed types. Specify dtype option on import or set low_memory=False.\n",
      "  interactivity=interactivity, compiler=compiler, result=result)\n"
     ]
    }
   ],
   "source": [
    "#Read in Data\n",
    "print (\"Reading data.......\")\n",
    "x = pd.read_csv(data_file)"
   ]
  },
  {
   "cell_type": "code",
   "execution_count": 4,
   "metadata": {
    "collapsed": true
   },
   "outputs": [],
   "source": [
    "#Drop unwanted columns\n",
    "drop = ['sc_toa','read','status','locked', 'type',\n",
    "        'subject','backup_date','protocol', 'date',\n",
    "        'type', 'contact_name', 'service_center', \n",
    "        'backup_set']\n",
    "x.drop(drop,inplace=True,axis=1)"
   ]
  },
  {
   "cell_type": "code",
   "execution_count": 5,
   "metadata": {},
   "outputs": [
    {
     "data": {
      "text/plain": [
       "Index(['count', 'address', 'body', 'toa', 'date_sent', 'readable_date'], dtype='object')"
      ]
     },
     "execution_count": 5,
     "metadata": {},
     "output_type": "execute_result"
    }
   ],
   "source": [
    "#Check remaining columns\n",
    "x.columns"
   ]
  },
  {
   "cell_type": "code",
   "execution_count": 6,
   "metadata": {},
   "outputs": [
    {
     "data": {
      "text/html": [
       "<div>\n",
       "<table border=\"1\" class=\"dataframe\">\n",
       "  <thead>\n",
       "    <tr style=\"text-align: right;\">\n",
       "      <th></th>\n",
       "      <th>count</th>\n",
       "      <th>address</th>\n",
       "      <th>body</th>\n",
       "      <th>toa</th>\n",
       "      <th>date_sent</th>\n",
       "      <th>readable_date</th>\n",
       "    </tr>\n",
       "  </thead>\n",
       "  <tbody>\n",
       "    <tr>\n",
       "      <th>0</th>\n",
       "      <td>144406</td>\n",
       "      <td>992935710546</td>\n",
       "      <td>Power Failure  is running id 1301 | Monitoring...</td>\n",
       "      <td>null</td>\n",
       "      <td>1.476850e+12</td>\n",
       "      <td>10/19/2016 10:11:54</td>\n",
       "    </tr>\n",
       "    <tr>\n",
       "      <th>1</th>\n",
       "      <td>144406</td>\n",
       "      <td>992935710929</td>\n",
       "      <td>Power Failure  is running id 1018 | Monitoring...</td>\n",
       "      <td>null</td>\n",
       "      <td>1.476850e+12</td>\n",
       "      <td>10/19/2016 10:12:07</td>\n",
       "    </tr>\n",
       "    <tr>\n",
       "      <th>2</th>\n",
       "      <td>144406</td>\n",
       "      <td>992935710544</td>\n",
       "      <td>Power Failure  is running id 1063 | Monitoring...</td>\n",
       "      <td>null</td>\n",
       "      <td>1.476850e+12</td>\n",
       "      <td>10/19/2016 10:12:34</td>\n",
       "    </tr>\n",
       "    <tr>\n",
       "      <th>3</th>\n",
       "      <td>144406</td>\n",
       "      <td>992935710596</td>\n",
       "      <td>Power Failure  is running id 1016 | Monitoring...</td>\n",
       "      <td>null</td>\n",
       "      <td>1.476850e+12</td>\n",
       "      <td>10/19/2016 10:14:22</td>\n",
       "    </tr>\n",
       "    <tr>\n",
       "      <th>4</th>\n",
       "      <td>144406</td>\n",
       "      <td>992935710849</td>\n",
       "      <td>Power Failure  is running id 1043 | Monitoring...</td>\n",
       "      <td>null</td>\n",
       "      <td>1.476850e+12</td>\n",
       "      <td>10/19/2016 10:14:38</td>\n",
       "    </tr>\n",
       "  </tbody>\n",
       "</table>\n",
       "</div>"
      ],
      "text/plain": [
       "    count       address                                               body  \\\n",
       "0  144406  992935710546  Power Failure  is running id 1301 | Monitoring...   \n",
       "1  144406  992935710929  Power Failure  is running id 1018 | Monitoring...   \n",
       "2  144406  992935710544  Power Failure  is running id 1063 | Monitoring...   \n",
       "3  144406  992935710596  Power Failure  is running id 1016 | Monitoring...   \n",
       "4  144406  992935710849  Power Failure  is running id 1043 | Monitoring...   \n",
       "\n",
       "    toa     date_sent        readable_date  \n",
       "0  null  1.476850e+12  10/19/2016 10:11:54  \n",
       "1  null  1.476850e+12  10/19/2016 10:12:07  \n",
       "2  null  1.476850e+12  10/19/2016 10:12:34  \n",
       "3  null  1.476850e+12  10/19/2016 10:14:22  \n",
       "4  null  1.476850e+12  10/19/2016 10:14:38  "
      ]
     },
     "execution_count": 6,
     "metadata": {},
     "output_type": "execute_result"
    }
   ],
   "source": [
    "#Check the data\n",
    "x.head()"
   ]
  },
  {
   "cell_type": "markdown",
   "metadata": {},
   "source": [
    "**So readable date refers to date_sent or date_received (which isnt available here) Whats this date for?**"
   ]
  },
  {
   "cell_type": "code",
   "execution_count": 12,
   "metadata": {},
   "outputs": [
    {
     "name": "stdout",
     "output_type": "stream",
     "text": [
      "0 rows dropped due to bad date format\n"
     ]
    }
   ],
   "source": [
    "#Check dates. For now just drop all bad dates (1906 records)\n",
    "x['date_len'] = x.apply(lambda x: len(x['readable_date']),axis=1)\n",
    "\n",
    "#Drop dates length > 19-bad dates\n",
    "numrows_before = x.shape[0]\n",
    "x = x[x.date_len==19]\n",
    "print (\"%s rows dropped due to bad date format\" %(numrows_before-len(x)))\n",
    "\n",
    "#create datetime_rcvd from readable date\n",
    "x['datetime_rcvd'] = x.apply(lambda x: pd.datetime.strptime(x['readable_date'], '%m/%d/%Y %H:%M:%S'), axis=1)\n",
    "#Drop date_len column\n",
    "x.drop(['date_len'],inplace=True,axis=1)"
   ]
  },
  {
   "cell_type": "code",
   "execution_count": 13,
   "metadata": {},
   "outputs": [
    {
     "name": "stdout",
     "output_type": "stream",
     "text": [
      "450 - Test SMS from Power Failure Monitor:Power Failure  is running ID\n",
      "3165 - Power Back detected.\n",
      "3167 - Power Back detected.\n",
      "48055 - ??????? ????? ?????? ??????? ???. ??????? ?????? ??? ???????????\n",
      "101737 - Test SMS from Power Failure Monitor:Power Failure detected. Il\n",
      "141895 - ?????\n",
      "141896 - ?????????\n",
      "141899 - ??????? ????? ?????? ??????? ???. ??????? ?????? ??? ???????????\n",
      "8 rows dropped because they had no device-id info\n"
     ]
    },
    {
     "data": {
      "text/html": [
       "<div>\n",
       "<table border=\"1\" class=\"dataframe\">\n",
       "  <thead>\n",
       "    <tr style=\"text-align: right;\">\n",
       "      <th></th>\n",
       "      <th>count</th>\n",
       "      <th>address</th>\n",
       "      <th>body</th>\n",
       "      <th>toa</th>\n",
       "      <th>date_sent</th>\n",
       "      <th>readable_date</th>\n",
       "      <th>datetime_rcvd</th>\n",
       "    </tr>\n",
       "  </thead>\n",
       "  <tbody>\n",
       "    <tr>\n",
       "      <th>450</th>\n",
       "      <td>144406</td>\n",
       "      <td>992935711044</td>\n",
       "      <td>Test SMS from Power Failure Monitor:Power Fail...</td>\n",
       "      <td>null</td>\n",
       "      <td>1.476880e+12</td>\n",
       "      <td>10/19/2016 17:10:08</td>\n",
       "      <td>2016-10-19 17:10:08</td>\n",
       "    </tr>\n",
       "    <tr>\n",
       "      <th>3165</th>\n",
       "      <td>144406</td>\n",
       "      <td>992935710834</td>\n",
       "      <td>Power Back detected.</td>\n",
       "      <td>null</td>\n",
       "      <td>1.477040e+12</td>\n",
       "      <td>10/21/2016 13:50:19</td>\n",
       "      <td>2016-10-21 13:50:19</td>\n",
       "    </tr>\n",
       "    <tr>\n",
       "      <th>3167</th>\n",
       "      <td>144406</td>\n",
       "      <td>992935710834</td>\n",
       "      <td>Power Back detected.</td>\n",
       "      <td>null</td>\n",
       "      <td>1.477040e+12</td>\n",
       "      <td>10/21/2016 13:51:07</td>\n",
       "      <td>2016-10-21 13:51:07</td>\n",
       "    </tr>\n",
       "    <tr>\n",
       "      <th>49961</th>\n",
       "      <td>144406</td>\n",
       "      <td>+992935821825</td>\n",
       "      <td>??????? ????? ?????? ??????? ???. ??????? ????...</td>\n",
       "      <td>null</td>\n",
       "      <td>1.482030e+12</td>\n",
       "      <td>12/18/2016 08:52:30</td>\n",
       "      <td>2016-12-18 08:52:30</td>\n",
       "    </tr>\n",
       "    <tr>\n",
       "      <th>103643</th>\n",
       "      <td>144406</td>\n",
       "      <td>992935710316</td>\n",
       "      <td>Test SMS from Power Failure Monitor:Power Fail...</td>\n",
       "      <td>null</td>\n",
       "      <td>1.486200e+12</td>\n",
       "      <td>02/04/2017 13:55:39</td>\n",
       "      <td>2017-02-04 13:55:39</td>\n",
       "    </tr>\n",
       "    <tr>\n",
       "      <th>143801</th>\n",
       "      <td>144406</td>\n",
       "      <td>938303656</td>\n",
       "      <td>?????</td>\n",
       "      <td>null</td>\n",
       "      <td>0.000000e+00</td>\n",
       "      <td>03/22/2017 16:57:26</td>\n",
       "      <td>2017-03-22 16:57:26</td>\n",
       "    </tr>\n",
       "    <tr>\n",
       "      <th>143802</th>\n",
       "      <td>144406</td>\n",
       "      <td>938303656</td>\n",
       "      <td>?????????</td>\n",
       "      <td>null</td>\n",
       "      <td>0.000000e+00</td>\n",
       "      <td>03/22/2017 16:57:43</td>\n",
       "      <td>2017-03-22 16:57:43</td>\n",
       "    </tr>\n",
       "    <tr>\n",
       "      <th>143805</th>\n",
       "      <td>144406</td>\n",
       "      <td>+992938303656</td>\n",
       "      <td>??????? ????? ?????? ??????? ???. ??????? ????...</td>\n",
       "      <td>null</td>\n",
       "      <td>1.490190e+12</td>\n",
       "      <td>03/22/2017 17:29:22</td>\n",
       "      <td>2017-03-22 17:29:22</td>\n",
       "    </tr>\n",
       "  </tbody>\n",
       "</table>\n",
       "</div>"
      ],
      "text/plain": [
       "         count        address  \\\n",
       "450     144406   992935711044   \n",
       "3165    144406   992935710834   \n",
       "3167    144406   992935710834   \n",
       "49961   144406  +992935821825   \n",
       "103643  144406   992935710316   \n",
       "143801  144406      938303656   \n",
       "143802  144406      938303656   \n",
       "143805  144406  +992938303656   \n",
       "\n",
       "                                                     body   toa     date_sent  \\\n",
       "450     Test SMS from Power Failure Monitor:Power Fail...  null  1.476880e+12   \n",
       "3165                                 Power Back detected.  null  1.477040e+12   \n",
       "3167                                 Power Back detected.  null  1.477040e+12   \n",
       "49961   ??????? ????? ?????? ??????? ???. ??????? ????...  null  1.482030e+12   \n",
       "103643  Test SMS from Power Failure Monitor:Power Fail...  null  1.486200e+12   \n",
       "143801                                              ?????  null  0.000000e+00   \n",
       "143802                                          ?????????  null  0.000000e+00   \n",
       "143805  ??????? ????? ?????? ??????? ???. ??????? ????...  null  1.490190e+12   \n",
       "\n",
       "              readable_date       datetime_rcvd  \n",
       "450     10/19/2016 17:10:08 2016-10-19 17:10:08  \n",
       "3165    10/21/2016 13:50:19 2016-10-21 13:50:19  \n",
       "3167    10/21/2016 13:51:07 2016-10-21 13:51:07  \n",
       "49961   12/18/2016 08:52:30 2016-12-18 08:52:30  \n",
       "103643  02/04/2017 13:55:39 2017-02-04 13:55:39  \n",
       "143801  03/22/2017 16:57:26 2017-03-22 16:57:26  \n",
       "143802  03/22/2017 16:57:43 2017-03-22 16:57:43  \n",
       "143805  03/22/2017 17:29:22 2017-03-22 17:29:22  "
      ]
     },
     "execution_count": 13,
     "metadata": {},
     "output_type": "execute_result"
    }
   ],
   "source": [
    "#Remove rows without Device ID\n",
    "msg = x.body\n",
    "to_drop = []\n",
    "device_id = {}\n",
    "for i,b in enumerate(msg):\n",
    "    str = re.findall(r'\\d+', b)\n",
    "    if len(str)<1:\n",
    "         print (i,'-', b)\n",
    "         to_drop.append(i)\n",
    "    else:\n",
    "        device_id [i] = str[0]\n",
    "    \n",
    "\n",
    "#Check the rows to be remnoved\n",
    "print (\"%s rows (shown below) dropped because they had no device-id info\"%len(to_drop))\n",
    "x.iloc[to_drop]"
   ]
  },
  {
   "cell_type": "code",
   "execution_count": 14,
   "metadata": {
    "collapsed": true
   },
   "outputs": [],
   "source": [
    "#Drop the rows now and add deviucxe id\n",
    "x.drop(x.index[to_drop],inplace=True)\n",
    "df_device_id = pd.DataFrame.from_dict(device_id, orient='index')\n",
    "df_device_id.columns = ['device_id']\n",
    "#Join device id with original df\n",
    "x = pd.concat([x,df_device_id],axis=1, join='inner')"
   ]
  },
  {
   "cell_type": "code",
   "execution_count": 103,
   "metadata": {
    "collapsed": true
   },
   "outputs": [],
   "source": [
    "#Type of Message\n",
    "def detect_message(row):\n",
    "    str = row ['body']\n",
    "    fail = set(['Power','Failure','is','running'])\n",
    "    if str[:4]=='Test':\n",
    "        return 'test'\n",
    "    elif set(str.split()[:4])==fail and 'Monitoring... Power OK' in str:\n",
    "        return 'pon_mon'\n",
    "    elif set(str.split()[:4])==fail and 'Monitoring... Power Failure' in str:\n",
    "        return 'pfail_mon'\n",
    "    elif set(str.split()[:4])==fail2 and 'Monitoring... Power OK' in str:\n",
    "        return 'pon_mon'\n",
    "    elif set(str.split()[:4])==fail2 and 'Monitoring... Power Failure' in str:\n",
    "        return 'pfail_mon'\n",
    "    elif str[:3]== 'Power Back detected':\n",
    "         return 'pback'\n",
    "    elif str[:22]== 'Power Failure detected':\n",
    "        return 'pfail'\n",
    "    elif str[:3]=='Power Failure' and 'Monitoring... Power Failure' in str:\n",
    "        return 'pfail_mon'\n",
    "    elif str[:3]=='Power Failure' and 'Monitoring... Power OK' in str:\n",
    "        return 'pon_mon'\n",
    "    else:\n",
    "        return 'none'"
   ]
  },
  {
   "cell_type": "code",
   "execution_count": 94,
   "metadata": {
    "collapsed": true
   },
   "outputs": [],
   "source": [
    "#Generate message type variable\n",
    "x['msg'] = x.apply(lambda x: detect_message(x),axis=1)\n",
    "print ('Rows where I couldnt get the message %s'%len(x[x.msg=='none']))\n",
    "#For now just drop rows with nessage=none\n",
    "x = x[x.msg!='none']"
   ]
  },
  {
   "cell_type": "code",
   "execution_count": 107,
   "metadata": {
    "collapsed": true
   },
   "outputs": [],
   "source": [
    "#Drop rows where message is test\n",
    "x = x[x.msg!='test']"
   ]
  },
  {
   "cell_type": "code",
   "execution_count": 108,
   "metadata": {
    "collapsed": true
   },
   "outputs": [],
   "source": [
    "#Generate variables\n",
    "def message_type(msg):\n",
    "    if msg == 'pback':\n",
    "        return 1\n",
    "    elif msg == 'pfail':\n",
    "        return 2\n",
    "    elif msg == 'pfail_mon':\n",
    "        return 3\n",
    "    elif msg == 'pon_mon':\n",
    "        return 4"
   ]
  },
  {
   "cell_type": "code",
   "execution_count": 109,
   "metadata": {
    "collapsed": true
   },
   "outputs": [],
   "source": [
    "#Alive-variable to indicate whether box is alive or not\n",
    "x[\"alive\"] = \"\"\n",
    "x.ix[x.msg==\"pfail_mon\", ['alive']] = 1\n",
    "x.ix[x.msg==\"pon_mon\", ['alive']] = 1\n",
    "\n",
    "#Message type-is the scale important here\n",
    "x['msgty'] = x.apply(lambda row: message_type(row['msg']), axis = 1)"
   ]
  },
  {
   "cell_type": "code",
   "execution_count": 110,
   "metadata": {},
   "outputs": [
    {
     "name": "stdout",
     "output_type": "stream",
     "text": [
      "Before dropping duplicates.... (138582, 11)\n",
      "After dropping duplicates.... (138561, 11)\n",
      "After dropping duplicates.... (138561, 11)\n"
     ]
    }
   ],
   "source": [
    "#Check duplicates and drop duplicates\n",
    "print (\"Before dropping duplicates....\", x.shape)\n",
    "x.drop_duplicates(subset=['device_id', 'body', 'readable_date'], keep = 'first', inplace=True)\n",
    "print (\"After dropping duplicates....\", x.shape)\n",
    "\n",
    "#print (\"Before dropping duplicates....\", x.shape)\n",
    "x.drop_duplicates(subset=['device_id', 'datetime_rcvd'], keep = 'first', inplace=True)\n",
    "print (\"After dropping duplicates....\", x.shape)"
   ]
  },
  {
   "cell_type": "code",
   "execution_count": 111,
   "metadata": {
    "collapsed": true
   },
   "outputs": [],
   "source": [
    "#sort by device_id and datetime\n",
    "x = x.sort_values(by =['device_id', 'datetime_rcvd'])"
   ]
  },
  {
   "cell_type": "code",
   "execution_count": 123,
   "metadata": {},
   "outputs": [
    {
     "data": {
      "text/html": [
       "<div>\n",
       "<table border=\"1\" class=\"dataframe\">\n",
       "  <thead>\n",
       "    <tr style=\"text-align: right;\">\n",
       "      <th></th>\n",
       "      <th>device_id</th>\n",
       "      <th>datetime_rcvd</th>\n",
       "      <th>alive</th>\n",
       "    </tr>\n",
       "  </thead>\n",
       "  <tbody>\n",
       "    <tr>\n",
       "      <th>142083</th>\n",
       "      <td>0</td>\n",
       "      <td>2017-03-20 06:07:41</td>\n",
       "      <td>1</td>\n",
       "    </tr>\n",
       "    <tr>\n",
       "      <th>6950</th>\n",
       "      <td>1001</td>\n",
       "      <td>2016-10-27 03:12:55</td>\n",
       "      <td>1</td>\n",
       "    </tr>\n",
       "    <tr>\n",
       "      <th>7262</th>\n",
       "      <td>1001</td>\n",
       "      <td>2016-10-27 15:16:22</td>\n",
       "      <td>1</td>\n",
       "    </tr>\n",
       "    <tr>\n",
       "      <th>7511</th>\n",
       "      <td>1001</td>\n",
       "      <td>2016-10-28 03:16:26</td>\n",
       "      <td>1</td>\n",
       "    </tr>\n",
       "    <tr>\n",
       "      <th>7739</th>\n",
       "      <td>1001</td>\n",
       "      <td>2016-10-28 15:16:25</td>\n",
       "      <td>1</td>\n",
       "    </tr>\n",
       "  </tbody>\n",
       "</table>\n",
       "</div>"
      ],
      "text/plain": [
       "       device_id       datetime_rcvd alive\n",
       "142083         0 2017-03-20 06:07:41     1\n",
       "6950        1001 2016-10-27 03:12:55     1\n",
       "7262        1001 2016-10-27 15:16:22     1\n",
       "7511        1001 2016-10-28 03:16:26     1\n",
       "7739        1001 2016-10-28 15:16:25     1"
      ]
     },
     "execution_count": 123,
     "metadata": {},
     "output_type": "execute_result"
    }
   ],
   "source": [
    "x[['device_id','datetime_rcvd', 'alive']].head()"
   ]
  },
  {
   "cell_type": "code",
   "execution_count": 124,
   "metadata": {
    "collapsed": true
   },
   "outputs": [],
   "source": [
    "#create datetime-sent\n",
    "stata_refdt = datetime.strptime(\"1/1/1960 00:00:00\", '%m/%d/%Y %H:%M:%S')\n",
    "\n",
    "#The constant 315637200000 is being added as some kind of offset based on stata code\n",
    "x['datetime_sent'] = x.apply(lambda x: stata_refdt + timedelta(milliseconds = x['date_sent']+315637200000),axis=1)"
   ]
  },
  {
   "cell_type": "code",
   "execution_count": 125,
   "metadata": {
    "collapsed": true
   },
   "outputs": [],
   "source": [
    "#create delay variable\n",
    "x['delay'] = x.apply(lambda x: (x['datetime_sent']-x['datetime_rcvd']).total_seconds(),axis=1)"
   ]
  },
  {
   "cell_type": "code",
   "execution_count": 126,
   "metadata": {
    "collapsed": true
   },
   "outputs": [],
   "source": [
    "#create time intervals between events\n",
    "x['elapsed'] = (x['datetime_rcvd']-x['datetime_rcvd'].shift()).fillna(0)"
   ]
  },
  {
   "cell_type": "code",
   "execution_count": 127,
   "metadata": {
    "collapsed": true
   },
   "outputs": [],
   "source": [
    "x['elapsed_min'] = x.apply(lambda row: row['elapsed'].total_seconds()/60, axis=1)"
   ]
  },
  {
   "cell_type": "code",
   "execution_count": 128,
   "metadata": {
    "collapsed": true
   },
   "outputs": [],
   "source": [
    "#Replace elapsed = \"\" if alive =1\n",
    "x.ix[x.alive==1, 'elapsed_min'] = np.NaN"
   ]
  },
  {
   "cell_type": "code",
   "execution_count": 129,
   "metadata": {
    "collapsed": true
   },
   "outputs": [],
   "source": [
    "#Sort by device_id and alive\n",
    "x = x.sort_values(by =['device_id', 'alive'])"
   ]
  },
  {
   "cell_type": "code",
   "execution_count": 132,
   "metadata": {},
   "outputs": [
    {
     "data": {
      "text/plain": [
       "142083   NaN\n",
       "6950     NaN\n",
       "7262     NaN\n",
       "7511     NaN\n",
       "7739     NaN\n",
       "Name: elapsed_min, dtype: float64"
      ]
     },
     "execution_count": 132,
     "metadata": {},
     "output_type": "execute_result"
    }
   ],
   "source": [
    "x['elapsed_min'].head()"
   ]
  },
  {
   "cell_type": "code",
   "execution_count": null,
   "metadata": {
    "collapsed": true
   },
   "outputs": [],
   "source": [
    "g elapsed_fail = elapsed if pback==1\n",
    "g elapsed_on = elapsed if pfail==1"
   ]
  },
  {
   "cell_type": "code",
   "execution_count": null,
   "metadata": {
    "collapsed": true
   },
   "outputs": [],
   "source": [
    "#g elapsed_fail = elapsed if pback==\n",
    "x.ix[x.msgty==2,'elapsed_fail'] = x2['elapsed_min']\n",
    "x.ix[x.msgty==1,'elapsed_on'] = x2['elapsed_min']"
   ]
  },
  {
   "cell_type": "code",
   "execution_count": 137,
   "metadata": {
    "collapsed": true
   },
   "outputs": [],
   "source": [
    "#Sort by device_id and alive\n",
    "x = x.sort_values(by =['device_id', 'datetime_rcvd'])"
   ]
  },
  {
   "cell_type": "code",
   "execution_count": 138,
   "metadata": {
    "scrolled": true
   },
   "outputs": [
    {
     "data": {
      "text/html": [
       "<div>\n",
       "<table border=\"1\" class=\"dataframe\">\n",
       "  <thead>\n",
       "    <tr style=\"text-align: right;\">\n",
       "      <th></th>\n",
       "      <th>device_id</th>\n",
       "      <th>elapsed_min</th>\n",
       "      <th>datetime_rcvd</th>\n",
       "    </tr>\n",
       "  </thead>\n",
       "  <tbody>\n",
       "    <tr>\n",
       "      <th>142083</th>\n",
       "      <td>0</td>\n",
       "      <td>NaN</td>\n",
       "      <td>2017-03-20 06:07:41</td>\n",
       "    </tr>\n",
       "    <tr>\n",
       "      <th>6950</th>\n",
       "      <td>1001</td>\n",
       "      <td>NaN</td>\n",
       "      <td>2016-10-27 03:12:55</td>\n",
       "    </tr>\n",
       "    <tr>\n",
       "      <th>7262</th>\n",
       "      <td>1001</td>\n",
       "      <td>NaN</td>\n",
       "      <td>2016-10-27 15:16:22</td>\n",
       "    </tr>\n",
       "    <tr>\n",
       "      <th>7511</th>\n",
       "      <td>1001</td>\n",
       "      <td>NaN</td>\n",
       "      <td>2016-10-28 03:16:26</td>\n",
       "    </tr>\n",
       "    <tr>\n",
       "      <th>7739</th>\n",
       "      <td>1001</td>\n",
       "      <td>NaN</td>\n",
       "      <td>2016-10-28 15:16:25</td>\n",
       "    </tr>\n",
       "  </tbody>\n",
       "</table>\n",
       "</div>"
      ],
      "text/plain": [
       "       device_id  elapsed_min       datetime_rcvd\n",
       "142083         0          NaN 2017-03-20 06:07:41\n",
       "6950        1001          NaN 2016-10-27 03:12:55\n",
       "7262        1001          NaN 2016-10-27 15:16:22\n",
       "7511        1001          NaN 2016-10-28 03:16:26\n",
       "7739        1001          NaN 2016-10-28 15:16:25"
      ]
     },
     "execution_count": 138,
     "metadata": {},
     "output_type": "execute_result"
    }
   ],
   "source": [
    "x[['device_id','elapsed_min','datetime_rcvd']].head()"
   ]
  },
  {
   "cell_type": "code",
   "execution_count": null,
   "metadata": {
    "collapsed": true
   },
   "outputs": [],
   "source": [
    "x[x.msgty==2].head()"
   ]
  },
  {
   "cell_type": "code",
   "execution_count": null,
   "metadata": {
    "collapsed": true
   },
   "outputs": [],
   "source": []
  }
 ],
 "metadata": {
  "kernelspec": {
   "display_name": "Python 3",
   "language": "python",
   "name": "python3"
  },
  "language_info": {
   "codemirror_mode": {
    "name": "ipython",
    "version": 3
   },
   "file_extension": ".py",
   "mimetype": "text/x-python",
   "name": "python",
   "nbconvert_exporter": "python",
   "pygments_lexer": "ipython3",
   "version": "3.5.1"
  }
 },
 "nbformat": 4,
 "nbformat_minor": 2
}
